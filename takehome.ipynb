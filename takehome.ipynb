{
 "cells": [
  {
   "cell_type": "markdown",
   "metadata": {},
   "source": [
    "# Note about submission\n",
    "\n",
    "Please zip your flask app, sqlite database, tests, jupyter notebook, data csv, and any other relevant files for your submission"
   ]
  },
  {
   "cell_type": "markdown",
   "metadata": {},
   "source": [
    "# Part 1\n",
    "\n",
    "### Create a simple pet tracking flask app that uses sqlalchemy to write to a sqlite database.\n",
    "\n",
    "The app will have three endpoints \n",
    "\n",
    "### NewestPet\n",
    "**Name** | **Method** | **Description** \n",
    "--- | --- | ---\n",
    "`/newestpet` | `GET` | Returns the information about the most recently added pet\n",
    "\n",
    "**Parameters**\n",
    "\n",
    "None\n",
    "\n",
    "---\n",
    "\n",
    "### PetWithName\n",
    "**Name** | **Method** | **Description** \n",
    "--- | --- | ---\n",
    "`/petwithname` | `GET` | Returns a list of all pets with the provided name, or an empty list\n",
    "\n",
    "**Parameters**\n",
    "\n",
    "**Type**: URL parameter\n",
    "\n",
    "**Name**: `name`\n",
    "\n",
    "**DataType**: `string`\n",
    "\n",
    "**Required**: required\n",
    "\n",
    "**Description**: name to search for\n",
    "\n",
    "---\n",
    "\n",
    "### AddPet\n",
    "**Name** | **Method** | **Description** \n",
    "--- | --- | ---\n",
    "`/addpet` | `POST` | Adds a pet to the database\n",
    "\n",
    "**Parameters**\n",
    "\n",
    "None\n",
    "\n",
    "**Body**\n",
    "\n",
    "```\n",
    "{\n",
    "    \"name\": <str: name of the pet>,\n",
    "    \"breed\": <str: beed of the pet, one of {“dog”, “cat”}>\n",
    "}\n",
    "```\n",
    "---\n",
    "\n",
    "### Other requirements\n",
    "1. The `Pet` sqlalchemy object should have the following method: `to_json() -> str` which converts the pet to a json object `{ “name”: pet.Name, “breed”: pet.Breed }`\n",
    "2. The sqlite database should have only a single table, which includes `ID`, `Name`, `Breed`"
   ]
  },
  {
   "cell_type": "markdown",
   "metadata": {},
   "source": [
    "# Part 2\n",
    "\n",
    "Writes tests for your app using `pytest`"
   ]
  },
  {
   "cell_type": "markdown",
   "metadata": {},
   "source": [
    "# Part 3\n",
    "\n",
    "Imagine your job is to help build the text processing pipeline for a machine learning model. This model takes strings, processes them into vectors, and then classifies the text as relating to one of several categories (a multiclass classifier).\n",
    "\n",
    "The raw data that is passed into the machine learning pipeline has strings that may include descriptions of many items, including multiple items that we are seeking to classify, as well as descriptions of items that are irrelevant to our classifier. These must be separated before being passed to classifier.\n",
    "\n",
    "As the newest member of the team, your job is to get up to speed with the data as quickly as possible, and to find opportunities to improve the text processing pipeline. Perform an EDA on the following CSV to accomplish this. Be prepared to explain what insights you learned from the data, and what approaches you might use to improve the pipeline.\n",
    "\n",
    "Perform the analysis in this notebook, below this prompt.\n",
    "\n",
    "**Important: you are not building a machine learning model. The purpose of this component of the assignment is to demonstrate your skills with data analysis, visualizations, and pandas**"
   ]
  },
  {
   "cell_type": "markdown",
   "metadata": {},
   "source": [
    "------------------------------------"
   ]
  },
  {
   "cell_type": "markdown",
   "metadata": {},
   "source": [
    "# Imports\n",
    "\n",
    "In addition to the requirements, the spacy model must be downloaded using:\n",
    "\n",
    "`-m spacy download en_core_web_sm`"
   ]
  },
  {
   "cell_type": "code",
   "execution_count": 28,
   "metadata": {},
   "outputs": [],
   "source": [
    "from collections import Counter\n",
    "import matplotlib.pyplot as plt\n",
    "import numpy as np\n",
    "import pandas as pd\n",
    "import re\n",
    "import seaborn as sns\n",
    "from sklearn.feature_extraction import text\n",
    "import spacy\n",
    "\n",
    "sp = spacy.load('en_core_web_sm')\n",
    "pd.set_option('display.max_colwidth', None)\n",
    "stop = text.ENGLISH_STOP_WORDS"
   ]
  },
  {
   "cell_type": "markdown",
   "metadata": {},
   "source": [
    "# Data preparation"
   ]
  },
  {
   "cell_type": "code",
   "execution_count": 29,
   "metadata": {},
   "outputs": [
    {
     "name": "stdout",
     "output_type": "stream",
     "text": [
      "(1000, 11)\n"
     ]
    },
    {
     "data": {
      "text/html": [
       "<div>\n",
       "<style scoped>\n",
       "    .dataframe tbody tr th:only-of-type {\n",
       "        vertical-align: middle;\n",
       "    }\n",
       "\n",
       "    .dataframe tbody tr th {\n",
       "        vertical-align: top;\n",
       "    }\n",
       "\n",
       "    .dataframe thead th {\n",
       "        text-align: right;\n",
       "    }\n",
       "</style>\n",
       "<table border=\"1\" class=\"dataframe\">\n",
       "  <thead>\n",
       "    <tr style=\"text-align: right;\">\n",
       "      <th></th>\n",
       "      <th>id</th>\n",
       "      <th>text</th>\n",
       "      <th>added_datetime</th>\n",
       "      <th>yes_no</th>\n",
       "      <th>image_coordinates</th>\n",
       "      <th>image_url</th>\n",
       "      <th>original_id</th>\n",
       "      <th>page_number</th>\n",
       "      <th>parser_version</th>\n",
       "      <th>model_version</th>\n",
       "      <th>manual_override</th>\n",
       "    </tr>\n",
       "  </thead>\n",
       "  <tbody>\n",
       "    <tr>\n",
       "      <th>0</th>\n",
       "      <td>462548</td>\n",
       "      <td>No plastic bags or pesticide containers .</td>\n",
       "      <td>2021-07-13 01:18:01.983</td>\n",
       "      <td>no</td>\n",
       "      <td>{'originalSize': {'height': 1700, 'width': 2200}, 'x1': 699, 'x2': 913, 'y1': 367, 'y2': 503}</td>\n",
       "      <td>NaN</td>\n",
       "      <td>NaN</td>\n",
       "      <td>NaN</td>\n",
       "      <td>NaN</td>\n",
       "      <td>NaN</td>\n",
       "      <td>NaN</td>\n",
       "    </tr>\n",
       "    <tr>\n",
       "      <th>1</th>\n",
       "      <td>462549</td>\n",
       "      <td>No paint or aerosol cans .</td>\n",
       "      <td>2021-07-13 01:18:01.983</td>\n",
       "      <td>no</td>\n",
       "      <td>{'originalSize': {'height': 1700, 'width': 2200}, 'x1': 695, 'x2': 909, 'y1': 740, 'y2': 876}</td>\n",
       "      <td>NaN</td>\n",
       "      <td>NaN</td>\n",
       "      <td>NaN</td>\n",
       "      <td>NaN</td>\n",
       "      <td>NaN</td>\n",
       "      <td>NaN</td>\n",
       "    </tr>\n",
       "    <tr>\n",
       "      <th>2</th>\n",
       "      <td>462550</td>\n",
       "      <td>Tin and aluminum food and drink cans .</td>\n",
       "      <td>2021-07-13 01:18:01.983</td>\n",
       "      <td>yes</td>\n",
       "      <td>{'originalSize': {'height': 1700, 'width': 2200}, 'x1': 224, 'x2': 438, 'y1': 771, 'y2': 907}</td>\n",
       "      <td>NaN</td>\n",
       "      <td>NaN</td>\n",
       "      <td>NaN</td>\n",
       "      <td>NaN</td>\n",
       "      <td>NaN</td>\n",
       "      <td>NaN</td>\n",
       "    </tr>\n",
       "  </tbody>\n",
       "</table>\n",
       "</div>"
      ],
      "text/plain": [
       "       id                                       text           added_datetime  \\\n",
       "0  462548  No plastic bags or pesticide containers .  2021-07-13 01:18:01.983   \n",
       "1  462549                 No paint or aerosol cans .  2021-07-13 01:18:01.983   \n",
       "2  462550     Tin and aluminum food and drink cans .  2021-07-13 01:18:01.983   \n",
       "\n",
       "  yes_no  \\\n",
       "0     no   \n",
       "1     no   \n",
       "2    yes   \n",
       "\n",
       "                                                                               image_coordinates  \\\n",
       "0  {'originalSize': {'height': 1700, 'width': 2200}, 'x1': 699, 'x2': 913, 'y1': 367, 'y2': 503}   \n",
       "1  {'originalSize': {'height': 1700, 'width': 2200}, 'x1': 695, 'x2': 909, 'y1': 740, 'y2': 876}   \n",
       "2  {'originalSize': {'height': 1700, 'width': 2200}, 'x1': 224, 'x2': 438, 'y1': 771, 'y2': 907}   \n",
       "\n",
       "   image_url  original_id  page_number parser_version model_version  \\\n",
       "0        NaN          NaN          NaN            NaN           NaN   \n",
       "1        NaN          NaN          NaN            NaN           NaN   \n",
       "2        NaN          NaN          NaN            NaN           NaN   \n",
       "\n",
       "  manual_override  \n",
       "0             NaN  \n",
       "1             NaN  \n",
       "2             NaN  "
      ]
     },
     "execution_count": 29,
     "metadata": {},
     "output_type": "execute_result"
    }
   ],
   "source": [
    "df = pd.read_csv('takehome.csv')\n",
    "print(df.shape)\n",
    "df.head(3)"
   ]
  },
  {
   "cell_type": "code",
   "execution_count": 30,
   "metadata": {},
   "outputs": [
    {
     "data": {
      "text/plain": [
       "(997, 11)"
      ]
     },
     "execution_count": 30,
     "metadata": {},
     "output_type": "execute_result"
    }
   ],
   "source": [
    "# Remove 3 NaN text rows\n",
    "df.dropna(subset=['text'], inplace=True)\n",
    "df.shape"
   ]
  },
  {
   "cell_type": "code",
   "execution_count": 31,
   "metadata": {},
   "outputs": [
    {
     "data": {
      "text/plain": [
       "((189, 11), (808, 11))"
      ]
     },
     "execution_count": 31,
     "metadata": {},
     "output_type": "execute_result"
    }
   ],
   "source": [
    "# Remove rows with \"No text - category selected manually\" as text\n",
    "# These are essentially NaN text rows\n",
    "# Keep these rows in another dataframe\n",
    "df_no_text = df[df['text'].str.contains('No text - category selected manually')]\n",
    "df = df[~df['text'].str.contains('No text - category selected manually')]\n",
    "df_no_text.shape, df.shape"
   ]
  },
  {
   "cell_type": "code",
   "execution_count": 32,
   "metadata": {},
   "outputs": [],
   "source": [
    "def tokenize(text):\n",
    "    \"\"\"\n",
    "    Parses a string into a list of words\n",
    "    Does not include numbers\n",
    "    Puts all words in lower case\n",
    "    Removes stop words\n",
    "    \"\"\"\n",
    "    tokens = re.sub('[^a-zA-Z ]', ' ', text)\n",
    "    tokens = tokens.lower().split()\n",
    "    tokens = [word for word in tokens if word not in stop]\n",
    "    return tokens\n",
    "\n",
    "# Tokenize text and add to df\n",
    "df['tokens'] = df['text'].apply(tokenize)\n",
    "\n",
    "# Add token count column to df\n",
    "df['token_count'] = df['tokens'].str.len()"
   ]
  },
  {
   "cell_type": "markdown",
   "metadata": {},
   "source": [
    "# Analysis"
   ]
  },
  {
   "cell_type": "markdown",
   "metadata": {},
   "source": [
    "----------------- \n",
    "### A. TOKEN COUNTS"
   ]
  },
  {
   "cell_type": "code",
   "execution_count": 34,
   "metadata": {},
   "outputs": [
    {
     "data": {
      "image/png": "[encoded data removed]",
      "text/plain": [
       "<Figure size 432x288 with 1 Axes>"
      ]
     },
     "metadata": {
      "needs_background": "light"
     },
     "output_type": "display_data"
    }
   ],
   "source": [
    "\"\"\"\n",
    "Number of tokens per row\n",
    "\"\"\"\n",
    "plt.hist(df['token_count'])\n",
    "plt.ylabel('No. of rows')\n",
    "plt.xlabel('Token Count')\n",
    "plt.show()"
   ]
  },
  {
   "cell_type": "markdown",
   "metadata": {},
   "source": [
    "Roughly 85% of the rows have ≤10 tokens.\n",
    "\n",
    "Roughly 93% of the rows have ≤20 tokens.\n",
    "\n",
    "(see percentages in next cell)"
   ]
  },
  {
   "cell_type": "code",
   "execution_count": 35,
   "metadata": {},
   "outputs": [
    {
     "data": {
      "text/plain": [
       "(-0.10200000000000001, 10.1]    0.845297\n",
       "(10.1, 20.2]                    0.085396\n",
       "(20.2, 30.3]                    0.045792\n",
       "(30.3, 40.4]                    0.012376\n",
       "(50.5, 60.6]                    0.003713\n",
       "Name: token_count, dtype: float64"
      ]
     },
     "execution_count": 35,
     "metadata": {},
     "output_type": "execute_result"
    }
   ],
   "source": [
    "\"\"\"\n",
    "Token count ranges -- Percentages of total rows\n",
    "\"\"\"\n",
    "df['token_count'].value_counts(normalize=True, bins=10).head(5)"
   ]
  },
  {
   "cell_type": "code",
   "execution_count": 36,
   "metadata": {},
   "outputs": [
    {
     "data": {
      "image/png": "[encoded data removed]",
      "text/plain": [
       "<Figure size 432x288 with 1 Axes>"
      ]
     },
     "metadata": {
      "needs_background": "light"
     },
     "output_type": "display_data"
    }
   ],
   "source": [
    "\"\"\"\n",
    "21% of rows have 1 token.\n",
    "8 of the top 9 are paper items.\n",
    "\"\"\"\n",
    "df.loc[df['token_count'] == 1, 'tokens'].value_counts().head(15).plot(kind='bar')\n",
    "plt.show()"
   ]
  },
  {
   "cell_type": "code",
   "execution_count": 37,
   "metadata": {},
   "outputs": [
    {
     "data": {
      "text/plain": [
       "<AxesSubplot:>"
      ]
     },
     "execution_count": 37,
     "metadata": {},
     "output_type": "execute_result"
    },
    {
     "data": {
      "image/png": "[encoded data removed]",
      "text/plain": [
       "<Figure size 432x288 with 1 Axes>"
      ]
     },
     "metadata": {
      "needs_background": "light"
     },
     "output_type": "display_data"
    }
   ],
   "source": [
    "\"\"\"\n",
    "27% of rows have 2 tokens.\n",
    "Many entries are [adjective + noun].\n",
    "Many are about paper items, as well as other waste (foil, cans).\n",
    "\n",
    "12% of rows have 3 tokens. (figure not shown)\n",
    "Many are also [adjective, noun] combinations.\n",
    "Many are single categories (e.g. 'frozen food boxes', 'aluminum beverage cans').\n",
    "\"\"\"\n",
    "df.loc[df['token_count'] == 2, 'tokens'].value_counts().head(15).plot(kind='bar')"
   ]
  },
  {
   "cell_type": "code",
   "execution_count": 38,
   "metadata": {},
   "outputs": [
    {
     "data": {
      "text/plain": [
       "536    paper\\nbeverage carriers\\nblueprints\\nbooklets\\nbrochures and flyers\\nchurch bulletins\\nconstruction paper\\ncracker/\\nfolders\\ngreeting cards\\nindex cards\\ninstruction manuals\\n\\n and \\nmanilla \\nmilk and \\n\\n\\npaper plates\\npaper towel tubes\\n\\n\\n\\nsoft back books\\nsprial notebooks\\ntissue paper\\ngift bags\\n\\nbutter tubs\\ncarryout containers\\ncondiment bottles\\ncontact solution bottles\\ndeodorant tubes\\nfrozen food trays\\ngarden planter containers\\nlaundry baskets\\nlaundry detergent bottles\\nmilk crates\\nplastic buckets\\nplastic hangars\\nproduce containers\\nsalad dressing bottles\\nshampoo bottles\\nsoda \\nsolo cups\\nstorage totes\\ntupperware\\nwater bottles\\nyogurt containers\\n\\ncoffee cans\\ndisposable \\njar lids\\nmetal hangars\\npet \\npots and pans\\nsoda and beer cans\\nsoup cans\\ntuna cans\\nwire baskets\\nfruit and vegetables trays\n",
       "Name: text, dtype: object"
      ]
     },
     "execution_count": 38,
     "metadata": {},
     "output_type": "execute_result"
    }
   ],
   "source": [
    "# Large token count exampele\n",
    "df.sort_values('token_count', ascending=False).text.head(1)"
   ]
  },
  {
   "cell_type": "markdown",
   "metadata": {},
   "source": [
    "INTERPRETATION OF TOKEN COUNT DATA:\n",
    "\n",
    "Roughly 60% of the rows [token_count = 1-3] seem to be single categories that do not need much processing other than removing digits/symbols and (maybe) tokenizing. This percentage is probably higher, as many other rows [token_count = 4-5] can also be considered a single category, but the categorization gets less clear the higher the token count. For example, is \"Aluminum Foil and Cat Food Cans\" one category or two? Is \"Newspaper, magazines, office paper, books\" one category or four? More information on the classification task is needed to make these decisions.\n",
    "\n",
    "Rows with higher token counts (see example in cell immediately above) tend to contain multiple categories, which are often helpfully separated with commas or new-line characters. However, tokenizing these text entries breaks up multi-word categories, which loses these inherent connections. For example, \"tin cans, waxed paper, plastic wrap\" gets separated into ['tin', 'cans', 'waxed', 'paper', 'plastic', 'wrap']. The n-gram exercise below regains some of these, but not all. \n",
    "\n",
    "How to deal with these messier rows? They could be split on commas/new-line characters to preserve the categories, but should each split become its own row? Should tokenizing be abandoned to instead focus on building and preserving discrete multi-word categories? Again, these are questions that require more knowledge of the machine learning task. Some cleaning of these rows is attempted below."
   ]
  },
  {
   "cell_type": "markdown",
   "metadata": {},
   "source": [
    "------------------ \n",
    "### B. FREQUENT WORDS, N-GRAMS"
   ]
  },
  {
   "cell_type": "code",
   "execution_count": 39,
   "metadata": {},
   "outputs": [],
   "source": [
    "\"\"\"Function to calculate basic statistics about tokens in the corpus\"\"\"\n",
    "def count(tokens):\n",
    "    # stores the count of each token\n",
    "    word_counts = Counter()\n",
    "    \n",
    "    # stores the number of docs that each token appears in \n",
    "    appears_in = Counter()\n",
    "\n",
    "    total_docs = len(tokens)\n",
    "\n",
    "    for token in tokens:\n",
    "        # stores count of every appearance of a token \n",
    "        word_counts.update(token)\n",
    "        # use set() in order to not count duplicates, thereby count the num of docs that each token appears in\n",
    "        appears_in.update(set(token))\n",
    "\n",
    "    # build word count dataframe\n",
    "    temp = zip(word_counts.keys(), word_counts.values())\n",
    "    wc = pd.DataFrame(temp, columns = ['word', 'count'])\n",
    "\n",
    "    # rank the the word counts\n",
    "    wc['rank'] = wc['count'].rank(method='first', ascending=False)\n",
    "    total = wc['count'].sum()\n",
    "\n",
    "    # calculate the percent total of each token\n",
    "    wc['pct_total'] = wc['count'].apply(lambda token_count: token_count / total)\n",
    "\n",
    "    # calculate the cumulative percent total of word counts \n",
    "    wc = wc.sort_values(by='rank')\n",
    "    wc['cul_pct_total'] = wc['pct_total'].cumsum()\n",
    "\n",
    "    # create dataframe for document stats\n",
    "    t2 = zip(appears_in.keys(), appears_in.values())\n",
    "    ac = pd.DataFrame(t2, columns=['word', 'appears_in'])\n",
    "    \n",
    "    # merge word count stats with doc stats\n",
    "    wc = ac.merge(wc, on='word')\n",
    "\n",
    "    wc['appears_in_pct'] = wc['appears_in'].apply(lambda x: x / total_docs)\n",
    "\n",
    "    return wc.sort_values(by='rank')"
   ]
  },
  {
   "cell_type": "code",
   "execution_count": 40,
   "metadata": {},
   "outputs": [
    {
     "data": {
      "text/html": [
       "<div>\n",
       "<style scoped>\n",
       "    .dataframe tbody tr th:only-of-type {\n",
       "        vertical-align: middle;\n",
       "    }\n",
       "\n",
       "    .dataframe tbody tr th {\n",
       "        vertical-align: top;\n",
       "    }\n",
       "\n",
       "    .dataframe thead th {\n",
       "        text-align: right;\n",
       "    }\n",
       "</style>\n",
       "<table border=\"1\" class=\"dataframe\">\n",
       "  <thead>\n",
       "    <tr style=\"text-align: right;\">\n",
       "      <th></th>\n",
       "      <th>word</th>\n",
       "      <th>appears_in</th>\n",
       "      <th>count</th>\n",
       "      <th>rank</th>\n",
       "      <th>pct_total</th>\n",
       "      <th>cul_pct_total</th>\n",
       "      <th>appears_in_pct</th>\n",
       "    </tr>\n",
       "  </thead>\n",
       "  <tbody>\n",
       "    <tr>\n",
       "      <th>22</th>\n",
       "      <td>paper</td>\n",
       "      <td>155</td>\n",
       "      <td>273</td>\n",
       "      <td>1.0</td>\n",
       "      <td>0.054996</td>\n",
       "      <td>0.054996</td>\n",
       "      <td>0.191832</td>\n",
       "    </tr>\n",
       "    <tr>\n",
       "      <th>5</th>\n",
       "      <td>cans</td>\n",
       "      <td>124</td>\n",
       "      <td>165</td>\n",
       "      <td>2.0</td>\n",
       "      <td>0.033239</td>\n",
       "      <td>0.088235</td>\n",
       "      <td>0.153465</td>\n",
       "    </tr>\n",
       "    <tr>\n",
       "      <th>33</th>\n",
       "      <td>bottles</td>\n",
       "      <td>114</td>\n",
       "      <td>165</td>\n",
       "      <td>3.0</td>\n",
       "      <td>0.033239</td>\n",
       "      <td>0.121475</td>\n",
       "      <td>0.141089</td>\n",
       "    </tr>\n",
       "    <tr>\n",
       "      <th>2</th>\n",
       "      <td>plastic</td>\n",
       "      <td>114</td>\n",
       "      <td>155</td>\n",
       "      <td>4.0</td>\n",
       "      <td>0.031225</td>\n",
       "      <td>0.152699</td>\n",
       "      <td>0.141089</td>\n",
       "    </tr>\n",
       "    <tr>\n",
       "      <th>18</th>\n",
       "      <td>boxes</td>\n",
       "      <td>75</td>\n",
       "      <td>129</td>\n",
       "      <td>5.0</td>\n",
       "      <td>0.025987</td>\n",
       "      <td>0.178687</td>\n",
       "      <td>0.092822</td>\n",
       "    </tr>\n",
       "  </tbody>\n",
       "</table>\n",
       "</div>"
      ],
      "text/plain": [
       "       word  appears_in  count  rank  pct_total  cul_pct_total  appears_in_pct\n",
       "22    paper         155    273   1.0   0.054996       0.054996        0.191832\n",
       "5      cans         124    165   2.0   0.033239       0.088235        0.153465\n",
       "33  bottles         114    165   3.0   0.033239       0.121475        0.141089\n",
       "2   plastic         114    155   4.0   0.031225       0.152699        0.141089\n",
       "18    boxes          75    129   5.0   0.025987       0.178687        0.092822"
      ]
     },
     "execution_count": 40,
     "metadata": {},
     "output_type": "execute_result"
    }
   ],
   "source": [
    "# Word count dataframe with corpus stats\n",
    "wc  = count(df['tokens'])\n",
    "wc.head()"
   ]
  },
  {
   "cell_type": "code",
   "execution_count": 41,
   "metadata": {},
   "outputs": [
    {
     "data": {
      "image/png": "[encoded data removed]",
      "text/plain": [
       "<Figure size 432x288 with 1 Axes>"
      ]
     },
     "metadata": {
      "needs_background": "light"
     },
     "output_type": "display_data"
    }
   ],
   "source": [
    "# Top 20 most common words\n",
    "sns.barplot(x='count', y='word', data=wc.head(20))\n",
    "plt.show()"
   ]
  },
  {
   "cell_type": "code",
   "execution_count": 42,
   "metadata": {},
   "outputs": [],
   "source": [
    "\"\"\"Function to identify and rank n-grams\"\"\"\n",
    "def get_top_ngram(corpus, n=None):\n",
    "    corpus = corpus.apply(lambda text: ''.join(c for c in text if not c.isdigit()))\n",
    "    vec = text.CountVectorizer(ngram_range=(n, n), stop_words='english').fit(corpus)\n",
    "    bag_of_words = vec.transform(corpus)\n",
    "    sum_words = bag_of_words.sum(axis=0) \n",
    "    words_freq = [(word, sum_words[0, idx]) \n",
    "                  for word, idx in vec.vocabulary_.items()]\n",
    "    words_freq =sorted(words_freq, key = lambda x: x[1], reverse=True)\n",
    "    return words_freq"
   ]
  },
  {
   "cell_type": "code",
   "execution_count": 43,
   "metadata": {},
   "outputs": [
    {
     "data": {
      "image/png": "[encoded data removed]",
      "text/plain": [
       "<Figure size 432x288 with 1 Axes>"
      ]
     },
     "metadata": {
      "needs_background": "light"
     },
     "output_type": "display_data"
    }
   ],
   "source": [
    "# Top n bigrams\n",
    "n = 15\n",
    "top_n_bigrams = get_top_ngram(df['text'], 2)[:n] \n",
    "x, y = map(list, zip(*top_n_bigrams)) \n",
    "sns.barplot(x=y,y=x)\n",
    "plt.show()"
   ]
  },
  {
   "cell_type": "code",
   "execution_count": 44,
   "metadata": {},
   "outputs": [
    {
     "data": {
      "image/png": "[encoded data removed]",
      "text/plain": [
       "<Figure size 432x288 with 1 Axes>"
      ]
     },
     "metadata": {
      "needs_background": "light"
     },
     "output_type": "display_data"
    }
   ],
   "source": [
    "# Top n trigrams\n",
    "n = 15\n",
    "top_tri_grams = get_top_ngram(df['text'], n=3)[:n]\n",
    "x, y = map(list, zip(*top_tri_grams))\n",
    "sns.barplot(x=y,y=x)\n",
    "plt.show()"
   ]
  },
  {
   "cell_type": "code",
   "execution_count": 45,
   "metadata": {},
   "outputs": [
    {
     "data": {
      "image/png": "[encoded data removed]",
      "text/plain": [
       "<Figure size 432x288 with 1 Axes>"
      ]
     },
     "metadata": {
      "needs_background": "light"
     },
     "output_type": "display_data"
    }
   ],
   "source": [
    "# Bottom n bigrams\n",
    "n = 10\n",
    "top_n_bigrams = get_top_ngram(df['text'], 2)[-n:] \n",
    "x, y = map(list, zip(*top_n_bigrams)) \n",
    "sns.barplot(x=y,y=x)\n",
    "plt.show()"
   ]
  },
  {
   "cell_type": "markdown",
   "metadata": {},
   "source": [
    "B. INTERPRETATION OF FREQUENT WORDS, N-GRAMS\n",
    "\n",
    "The top 20 most common words in the dataset contain 7 materials, 6 container types (including the word \"containers\"), and 5 paper items (including the No. 1 word \"paper\"). Connections between the top words are easy and intuitive to make, such as \"office paper\" or \"tin cans\". \n",
    "\n",
    "These connections are backed up by the top 15 bigrams, which include both the examples above, as well as things like \"plastic bottles\" and \"paper bags.\" My best guess as to the source of the dataset would be something related to recycling. The data also contains a column called \"image_coordinates\" so perhaps these are text descriptions of images of the contents of waste/recycling containers. \n",
    "\n",
    "Given that much of the text data is adjective+noun (even in text entries with multiple categories) some kind of part-of-speech analysis could be helpful."
   ]
  },
  {
   "cell_type": "markdown",
   "metadata": {},
   "source": [
    "----------------------- \n",
    "### C. PARTS OF SPEECH"
   ]
  },
  {
   "cell_type": "code",
   "execution_count": 46,
   "metadata": {},
   "outputs": [],
   "source": [
    "\"\"\"\n",
    "Add part-of-speech tags for nouns, adjectives\n",
    "\"\"\"\n",
    "docs = wc['word'].apply(lambda text: sp(text))\n",
    "wc['noun'] = 0\n",
    "wc['adj'] = 0\n",
    "for doc in docs:\n",
    "    for token in doc:\n",
    "        if token.pos_ == 'NOUN':\n",
    "            wc.loc[wc['word'] == token.text, 'noun'] += 1\n",
    "        if token.pos_ == 'ADJ':\n",
    "            wc.loc[wc['word'] == token.text, 'adj'] += 1"
   ]
  },
  {
   "cell_type": "code",
   "execution_count": 47,
   "metadata": {},
   "outputs": [
    {
     "name": "stdout",
     "output_type": "stream",
     "text": [
      "Top 10 nouns\n",
      "          word  rank\n",
      "22       paper   1.0\n",
      "5         cans   2.0\n",
      "33     bottles   3.0\n",
      "2      plastic   4.0\n",
      "18       boxes   5.0\n",
      "1   containers   6.0\n",
      "9         food   7.0\n",
      "35       glass   8.0\n",
      "10    aluminum   9.0\n",
      "89   cardboard  10.0\n",
      "\n",
      "Bottom 5 nouns\n",
      "                  word   rank\n",
      "753                  v  763.0\n",
      "765          canssteel  767.0\n",
      "767  plasticcontainers  768.0\n",
      "769             bakery  770.0\n",
      "770             pounds  772.0\n"
     ]
    }
   ],
   "source": [
    "print('Top 10 nouns')\n",
    "print(wc[wc['noun']==1][['word', 'rank']].head(10))\n",
    "print('\\nBottom 5 nouns')\n",
    "print(wc[wc['noun']==1][['word', 'rank']].tail(5))"
   ]
  },
  {
   "cell_type": "code",
   "execution_count": 48,
   "metadata": {},
   "outputs": [
    {
     "name": "stdout",
     "output_type": "stream",
     "text": [
      "Top 10 adjectives\n",
      "           word   rank\n",
      "31        clear   42.0\n",
      "30        green   49.0\n",
      "90        white   52.0\n",
      "168       mixed   59.0\n",
      "332  recyclable   68.0\n",
      "41        light   78.0\n",
      "339     laundry   90.0\n",
      "14          non   93.0\n",
      "615     aseptic  120.0\n",
      "405       rigid  128.0\n",
      "\n",
      "Bottom 5 adjectives\n",
      "             word   rank\n",
      "746       various  751.0\n",
      "760          high  758.0\n",
      "768        yellow  769.0\n",
      "771      multiple  771.0\n",
      "775  confidential  776.0\n"
     ]
    }
   ],
   "source": [
    "print('Top 10 adjectives')\n",
    "print(wc[wc['adj']==1][['word', 'rank']].head(10))\n",
    "print('\\nBottom 5 adjectives')\n",
    "print(wc[wc['adj']==1][['word', 'rank']].tail(5))"
   ]
  },
  {
   "cell_type": "markdown",
   "metadata": {},
   "source": [
    "C. INTERPRETATION OF PARTS OF SPEECH\n",
    "\n",
    "The top 10 nouns are all recyclable materials or objects. Some of these may in fact be adjectives in the corpus (e.g. \"food\" containers or \"aluminumn\" cans). This raises the question as to what is important to the classification task. Is trying to identify certain materials, such as paper and glass? If so, a paper envelope can be grouped together with a book. Or is it interested in types of objects? This would put glass and plastic bottles together. \n",
    "\n",
    "Initially, the bottom-ranked items for both nouns and adjectives included several words that appeared jammed together (e.g. \"plasticcontainers\" or \"paperpizza\"). This suggested a problem with the data cleaning process, and modifying the regular expression used during tokenization eliminated many (but not all) of these. "
   ]
  },
  {
   "cell_type": "markdown",
   "metadata": {},
   "source": [
    "----------------\n",
    "### D. Multi-category entry cleaning"
   ]
  },
  {
   "cell_type": "code",
   "execution_count": 71,
   "metadata": {},
   "outputs": [],
   "source": [
    "\"\"\"Function to clean and split text entries\"\"\"\n",
    "def clean_text(df):\n",
    "    \"\"\"\n",
    "    Actions:\n",
    "    Lowercase\n",
    "    Replace \\n, \\t, : with commas\n",
    "    Split on commas\n",
    "    Remove empty or 1-2 character entries\n",
    "    Remove non-alphanumeric characters\n",
    "    \"\"\"\n",
    "    df = df.copy()\n",
    "    df['clean_text'] = df['text'].apply(lambda text: text.lower())\n",
    "    df['clean_text'] = df['clean_text'].apply(lambda text: text.replace('\\n', ','))\n",
    "    df['clean_text'] = df['clean_text'].apply(lambda text: text.replace('\\t', ','))\n",
    "    df['clean_text'] = df['clean_text'].apply(lambda text: text.replace(':', ','))\n",
    "    df['clean_text'] = df['clean_text'].apply(lambda text: text.split(','))\n",
    "    df['clean_text'] = df['clean_text'].apply(lambda text: [token for token in text if len(token) > 2])\n",
    "\n",
    "    clean_text = df['clean_text'].tolist()\n",
    "    for i, row in enumerate(clean_text):\n",
    "        for j, entry in enumerate(row):\n",
    "            row[j] = re.sub('[^a-zA-Z ]', ' ', entry)\n",
    "    df['clean_text'] = clean_text\n",
    "            \n",
    "    return df"
   ]
  },
  {
   "cell_type": "code",
   "execution_count": 76,
   "metadata": {},
   "outputs": [
    {
     "name": "stdout",
     "output_type": "stream",
     "text": [
      "Example of text before and after cleaning.\n",
      "\n",
      "Original text:\n",
      " paper products:  , ,  printer paper, copier paper, mail and all other  without wax liners: packing boxes, , gift boxes and . flatten boxes before placing in your cart\n",
      "cans: ; aluminum bottles are also accepted\n",
      "cartons: aseptic poly-coated drink boxes\n",
      "\n",
      "Clean text:\n",
      " ['paper products', '  printer paper', ' copier paper', ' mail and all other  without wax liners', ' packing boxes', ' gift boxes and   flatten boxes before placing in your cart', 'cans', '   aluminum bottles are also accepted', 'cartons', ' aseptic poly coated drink boxes']\n"
     ]
    }
   ],
   "source": [
    "df_clean = clean_text(df)\n",
    "print('Example of text before and after cleaning.\\n')\n",
    "print('Original text:\\n', df_clean[['text']].iloc[-5].item())\n",
    "print('\\nClean text:\\n', df_clean[['clean_text']].iloc[-5].item())"
   ]
  },
  {
   "cell_type": "code",
   "execution_count": 80,
   "metadata": {},
   "outputs": [
    {
     "name": "stdout",
     "output_type": "stream",
     "text": [
      "No. of rows in dataframe: 808\n",
      "Counts of the number of clean-text sections the text entries were split into:\n",
      "(e.g. in 578 rows the text was split into 1 section; in 75 rows it was split into 2 sections)\n"
     ]
    },
    {
     "data": {
      "text/plain": [
       "1     578\n",
       "2      75\n",
       "3      41\n",
       "4      27\n",
       "5      14\n",
       "6      12\n",
       "10     11\n",
       "7       9\n",
       "9       6\n",
       "12      6\n",
       "Name: clean_text, dtype: int64"
      ]
     },
     "execution_count": 80,
     "metadata": {},
     "output_type": "execute_result"
    }
   ],
   "source": [
    "print('No. of rows in dataframe:', len(df))\n",
    "print('Counts of the number of clean-text sections the text entries were split into:')\n",
    "print('(e.g. in 578 rows the text was split into 1 section; in 75 rows it was split into 2 sections)')\n",
    "df_clean['clean_text'].apply(lambda text: len(text)).sort_values(ascending=False).value_counts().head(10)"
   ]
  },
  {
   "cell_type": "markdown",
   "metadata": {},
   "source": [
    "D. MULTI-CATEGORY ENTRY CLEANING INTERPRETATION\n",
    "\n",
    "As can be seen above, the text entries were cleaned and split on commas, creating a list of strings for each row. This was somewhat successful in creating discrete items out of large categories. This is especially evident in the rows with large text entries. However, it also created some problems by splitting up discrete sections into multiple strings. For example, \"Clear, green, and brown bottles and jars\" was split into ['Clear', 'green', 'and brown bottles and jars'], which is not necessarily an improvement. Also, not all entries are simply adjective+noun constructs. Some appear to be more narrative descriptions, such as \"flatten boxes before placing in your cart\", which can be seen in the example above. \n",
    "\n",
    "It may not be possible to fully automate the text processing pipeline. Depending on how the data is going to be used, it may be best to flag certain rows for human checking. Based on my analysis, at very least about 2/3 of the rows would not need human checking. Many other rows can be easily approved for automated processing. The remainder can go through some kind of manual processing or be discarded, depending on resources and data needs. Perhaps more knowledge about how the data is gathered would provide insights into how to improve text processing. "
   ]
  },
  {
   "cell_type": "markdown",
   "metadata": {},
   "source": [
    "----------------- \n",
    "### CONCLUSION AND NEXT STEPS"
   ]
  },
  {
   "cell_type": "markdown",
   "metadata": {},
   "source": [
    "The majority of text entries in this dataset are discrete categories composed of a handful of words. However, in a significant minority of rows (~30%) the text clearly contains multiple categories. \n",
    "\n",
    "* **\"No text - category selected manually\":**  Nearly 200 rows had this as the text entry. This is nearly 20% of the rows and a significant loss for a dataset of this size. Investigating these rows should be a top priority. (Interesting tidbits: All of the \"No text\" rows have \"checkbox\" in the \"manual_override\" column. All rows with proper text entries have \"text\" or \"NaN\" in this column. And all proper text entries that are \"NaN\" for \"manual_override\" have a value in the \"image_coordinates\" column, while those with \"text\" for \"manual_override\" have \"NaN\" for \"image_coordinates\".)\n",
    "\n",
    "* **Other features:** This analysis has focused on the text entries, but there are 9 other columns that could potentially be useful. At first glance the most interesting is the \"yes_no\" column, with 84% of the entries \"yes\". What does this signify? A cursory examination showed that some text rows are \"negative\" (e.g. \"No cans\") and that these correspond to \"no\" values in the \"yes_no\" column, but there are many more \"no\" rows than rows with negative text entries.  \n",
    "\n",
    "* **Data source:** Particularly if data will be collected continuously (as opposed to just using this set for model training), a better understanding of the source of the data could be beneficial. If the \"No text - category selected manually\" rows are included, more than half the rows are either useless or not usable without processing. Figuring out how to reduce missing text and improve the quality of incoming data would help reduce the need for text processing, which can produce unwanted or unpredictable results. "
   ]
  },
  {
   "cell_type": "markdown",
   "metadata": {},
   "source": [
    "----------------------- \n",
    "### Save data to CSV"
   ]
  },
  {
   "cell_type": "code",
   "execution_count": 52,
   "metadata": {},
   "outputs": [],
   "source": [
    "# Include rows with \"No text - category selected manually\"\n",
    "df_no_text['token_count'] = np.nan\n",
    "df_no_text['clean_text'] = np.nan\n",
    "df_no_text['tokens'] = np.nan\n",
    "# df_no_text = df_no_text[['text', 'clean_text', 'token_count', 'tokens']]"
   ]
  },
  {
   "cell_type": "code",
   "execution_count": 55,
   "metadata": {},
   "outputs": [
    {
     "data": {
      "text/html": [
       "<div>\n",
       "<style scoped>\n",
       "    .dataframe tbody tr th:only-of-type {\n",
       "        vertical-align: middle;\n",
       "    }\n",
       "\n",
       "    .dataframe tbody tr th {\n",
       "        vertical-align: top;\n",
       "    }\n",
       "\n",
       "    .dataframe thead th {\n",
       "        text-align: right;\n",
       "    }\n",
       "</style>\n",
       "<table border=\"1\" class=\"dataframe\">\n",
       "  <thead>\n",
       "    <tr style=\"text-align: right;\">\n",
       "      <th></th>\n",
       "      <th>id</th>\n",
       "      <th>text</th>\n",
       "      <th>added_datetime</th>\n",
       "      <th>yes_no</th>\n",
       "      <th>image_coordinates</th>\n",
       "      <th>image_url</th>\n",
       "      <th>original_id</th>\n",
       "      <th>page_number</th>\n",
       "      <th>parser_version</th>\n",
       "      <th>model_version</th>\n",
       "      <th>manual_override</th>\n",
       "      <th>token_count</th>\n",
       "      <th>clean_text</th>\n",
       "      <th>tokens</th>\n",
       "    </tr>\n",
       "  </thead>\n",
       "  <tbody>\n",
       "    <tr>\n",
       "      <th>0</th>\n",
       "      <td>462548</td>\n",
       "      <td>No plastic bags or pesticide containers .</td>\n",
       "      <td>2021-07-13 01:18:01.983</td>\n",
       "      <td>no</td>\n",
       "      <td>{'originalSize': {'height': 1700, 'width': 2200}, 'x1': 699, 'x2': 913, 'y1': 367, 'y2': 503}</td>\n",
       "      <td>NaN</td>\n",
       "      <td>NaN</td>\n",
       "      <td>NaN</td>\n",
       "      <td>NaN</td>\n",
       "      <td>NaN</td>\n",
       "      <td>NaN</td>\n",
       "      <td>4.0</td>\n",
       "      <td>[no plastic bags or pesticide containers  ]</td>\n",
       "      <td>[plastic, bags, pesticide, containers]</td>\n",
       "    </tr>\n",
       "    <tr>\n",
       "      <th>1</th>\n",
       "      <td>462549</td>\n",
       "      <td>No paint or aerosol cans .</td>\n",
       "      <td>2021-07-13 01:18:01.983</td>\n",
       "      <td>no</td>\n",
       "      <td>{'originalSize': {'height': 1700, 'width': 2200}, 'x1': 695, 'x2': 909, 'y1': 740, 'y2': 876}</td>\n",
       "      <td>NaN</td>\n",
       "      <td>NaN</td>\n",
       "      <td>NaN</td>\n",
       "      <td>NaN</td>\n",
       "      <td>NaN</td>\n",
       "      <td>NaN</td>\n",
       "      <td>3.0</td>\n",
       "      <td>[no paint or aerosol cans  ]</td>\n",
       "      <td>[paint, aerosol, cans]</td>\n",
       "    </tr>\n",
       "    <tr>\n",
       "      <th>2</th>\n",
       "      <td>462550</td>\n",
       "      <td>Tin and aluminum food and drink cans .</td>\n",
       "      <td>2021-07-13 01:18:01.983</td>\n",
       "      <td>yes</td>\n",
       "      <td>{'originalSize': {'height': 1700, 'width': 2200}, 'x1': 224, 'x2': 438, 'y1': 771, 'y2': 907}</td>\n",
       "      <td>NaN</td>\n",
       "      <td>NaN</td>\n",
       "      <td>NaN</td>\n",
       "      <td>NaN</td>\n",
       "      <td>NaN</td>\n",
       "      <td>NaN</td>\n",
       "      <td>5.0</td>\n",
       "      <td>[tin and aluminum food and drink cans  ]</td>\n",
       "      <td>[tin, aluminum, food, drink, cans]</td>\n",
       "    </tr>\n",
       "    <tr>\n",
       "      <th>3</th>\n",
       "      <td>462551</td>\n",
       "      <td>Corrugated and non corrugated . Includes cereal - type boxes and egg cartons .</td>\n",
       "      <td>2021-07-13 01:18:01.983</td>\n",
       "      <td>yes</td>\n",
       "      <td>{'originalSize': {'height': 1700, 'width': 2200}, 'x1': 224, 'x2': 438, 'y1': 630, 'y2': 766}</td>\n",
       "      <td>NaN</td>\n",
       "      <td>NaN</td>\n",
       "      <td>NaN</td>\n",
       "      <td>NaN</td>\n",
       "      <td>NaN</td>\n",
       "      <td>NaN</td>\n",
       "      <td>9.0</td>\n",
       "      <td>[corrugated and non corrugated   includes cereal   type boxes and egg cartons  ]</td>\n",
       "      <td>[corrugated, non, corrugated, includes, cereal, type, boxes, egg, cartons]</td>\n",
       "    </tr>\n",
       "    <tr>\n",
       "      <th>4</th>\n",
       "      <td>462552</td>\n",
       "      <td>Includes all colors office paper , newspapers , magazines , catalogs , envelopes with windows , and phone books .</td>\n",
       "      <td>2021-07-13 01:18:01.983</td>\n",
       "      <td>yes</td>\n",
       "      <td>{'originalSize': {'height': 1700, 'width': 2200}, 'x1': 225, 'x2': 439, 'y1': 499, 'y2': 635}</td>\n",
       "      <td>NaN</td>\n",
       "      <td>NaN</td>\n",
       "      <td>NaN</td>\n",
       "      <td>NaN</td>\n",
       "      <td>NaN</td>\n",
       "      <td>NaN</td>\n",
       "      <td>11.0</td>\n",
       "      <td>[includes all colors office paper ,  newspapers ,  magazines ,  catalogs ,  envelopes with windows ,  and phone books  ]</td>\n",
       "      <td>[includes, colors, office, paper, newspapers, magazines, catalogs, envelopes, windows, phone, books]</td>\n",
       "    </tr>\n",
       "  </tbody>\n",
       "</table>\n",
       "</div>"
      ],
      "text/plain": [
       "       id  \\\n",
       "0  462548   \n",
       "1  462549   \n",
       "2  462550   \n",
       "3  462551   \n",
       "4  462552   \n",
       "\n",
       "                                                                                                                text  \\\n",
       "0                                                                          No plastic bags or pesticide containers .   \n",
       "1                                                                                         No paint or aerosol cans .   \n",
       "2                                                                             Tin and aluminum food and drink cans .   \n",
       "3                                     Corrugated and non corrugated . Includes cereal - type boxes and egg cartons .   \n",
       "4  Includes all colors office paper , newspapers , magazines , catalogs , envelopes with windows , and phone books .   \n",
       "\n",
       "            added_datetime yes_no  \\\n",
       "0  2021-07-13 01:18:01.983     no   \n",
       "1  2021-07-13 01:18:01.983     no   \n",
       "2  2021-07-13 01:18:01.983    yes   \n",
       "3  2021-07-13 01:18:01.983    yes   \n",
       "4  2021-07-13 01:18:01.983    yes   \n",
       "\n",
       "                                                                               image_coordinates  \\\n",
       "0  {'originalSize': {'height': 1700, 'width': 2200}, 'x1': 699, 'x2': 913, 'y1': 367, 'y2': 503}   \n",
       "1  {'originalSize': {'height': 1700, 'width': 2200}, 'x1': 695, 'x2': 909, 'y1': 740, 'y2': 876}   \n",
       "2  {'originalSize': {'height': 1700, 'width': 2200}, 'x1': 224, 'x2': 438, 'y1': 771, 'y2': 907}   \n",
       "3  {'originalSize': {'height': 1700, 'width': 2200}, 'x1': 224, 'x2': 438, 'y1': 630, 'y2': 766}   \n",
       "4  {'originalSize': {'height': 1700, 'width': 2200}, 'x1': 225, 'x2': 439, 'y1': 499, 'y2': 635}   \n",
       "\n",
       "   image_url  original_id  page_number parser_version model_version  \\\n",
       "0        NaN          NaN          NaN            NaN           NaN   \n",
       "1        NaN          NaN          NaN            NaN           NaN   \n",
       "2        NaN          NaN          NaN            NaN           NaN   \n",
       "3        NaN          NaN          NaN            NaN           NaN   \n",
       "4        NaN          NaN          NaN            NaN           NaN   \n",
       "\n",
       "  manual_override  token_count  \\\n",
       "0             NaN          4.0   \n",
       "1             NaN          3.0   \n",
       "2             NaN          5.0   \n",
       "3             NaN          9.0   \n",
       "4             NaN         11.0   \n",
       "\n",
       "                                                                                                                 clean_text  \\\n",
       "0                                                                               [no plastic bags or pesticide containers  ]   \n",
       "1                                                                                              [no paint or aerosol cans  ]   \n",
       "2                                                                                  [tin and aluminum food and drink cans  ]   \n",
       "3                                          [corrugated and non corrugated   includes cereal   type boxes and egg cartons  ]   \n",
       "4  [includes all colors office paper ,  newspapers ,  magazines ,  catalogs ,  envelopes with windows ,  and phone books  ]   \n",
       "\n",
       "                                                                                                 tokens  \n",
       "0                                                                [plastic, bags, pesticide, containers]  \n",
       "1                                                                                [paint, aerosol, cans]  \n",
       "2                                                                    [tin, aluminum, food, drink, cans]  \n",
       "3                            [corrugated, non, corrugated, includes, cereal, type, boxes, egg, cartons]  \n",
       "4  [includes, colors, office, paper, newspapers, magazines, catalogs, envelopes, windows, phone, books]  "
      ]
     },
     "execution_count": 55,
     "metadata": {},
     "output_type": "execute_result"
    }
   ],
   "source": [
    "df_all_data = pd.concat([df_no_text, df_clean], axis=0).sort_index()\n",
    "df_all_data.head()"
   ]
  },
  {
   "cell_type": "code",
   "execution_count": 54,
   "metadata": {},
   "outputs": [],
   "source": [
    "df_all_data.to_csv('takehome_CLEANED.csv', index=False)"
   ]
  }
 ],
 "metadata": {
  "interpreter": {
   "hash": "4badd61a3eb0a98b49024dc08b6e569de2eac3230396ff1e691db44e3b600cf6"
  },
  "kernelspec": {
   "display_name": "Python 3.9.5 64-bit",
   "name": "python3"
  },
  "language_info": {
   "codemirror_mode": {
    "name": "ipython",
    "version": 3
   },
   "file_extension": ".py",
   "mimetype": "text/x-python",
   "name": "python",
   "nbconvert_exporter": "python",
   "pygments_lexer": "ipython3",
   "version": "3.8.1"
  },
  "orig_nbformat": 4
 },
 "nbformat": 4,
 "nbformat_minor": 2
}
