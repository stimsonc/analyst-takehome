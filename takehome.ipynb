{
 "cells": [
  {
   "cell_type": "markdown",
   "metadata": {},
   "source": [
    "# Note about submission\n",
    "\n",
    "Please zip your flask app, sqlite database, tests, jupyter notebook, data csv, and any other relevant files for your submission"
   ]
  },
  {
   "cell_type": "markdown",
   "metadata": {},
   "source": [
    "# Part 1\n",
    "\n",
    "### Create a simple pet tracking flask app that uses sqlalchemy to write to a sqlite database.\n",
    "\n",
    "The app will have three endpoints \n",
    "\n",
    "### NewestPet\n",
    "**Name** | **Method** | **Description** \n",
    "--- | --- | ---\n",
    "`/newestpet` | `GET` | Returns the information about the most recently added pet\n",
    "\n",
    "**Parameters**\n",
    "\n",
    "None\n",
    "\n",
    "---\n",
    "\n",
    "### PetWithName\n",
    "**Name** | **Method** | **Description** \n",
    "--- | --- | ---\n",
    "`/petwithname` | `GET` | Returns a list of all pets with the provided name, or an empty list\n",
    "\n",
    "**Parameters**\n",
    "\n",
    "**Type**: URL parameter\n",
    "\n",
    "**Name**: `name`\n",
    "\n",
    "**DataType**: `string`\n",
    "\n",
    "**Required**: required\n",
    "\n",
    "**Description**: name to search for\n",
    "\n",
    "---\n",
    "\n",
    "### AddPet\n",
    "**Name** | **Method** | **Description** \n",
    "--- | --- | ---\n",
    "`/addpet` | `POST` | Adds a pet to the database\n",
    "\n",
    "**Parameters**\n",
    "\n",
    "None\n",
    "\n",
    "**Body**\n",
    "\n",
    "```\n",
    "{\n",
    "    \"name\": <str: name of the pet>,\n",
    "    \"breed\": <str: beed of the pet, one of {“dog”, “cat”}>\n",
    "}\n",
    "```\n",
    "---\n",
    "\n",
    "### Other requirements\n",
    "1. The `Pet` sqlalchemy object should have the following method: `to_json() -> str` which converts the pet to a json object `{ “name”: pet.Name, “breed”: pet.Breed }`\n",
    "2. The sqlite database should have only a single table, which includes `ID`, `Name`, `Breed`"
   ]
  },
  {
   "cell_type": "code",
   "execution_count": null,
   "metadata": {},
   "outputs": [],
   "source": [
    "\n"
   ]
  },
  {
   "cell_type": "markdown",
   "metadata": {},
   "source": [
    "# Part 2\n",
    "\n",
    "Writes tests for your app using `pytest`"
   ]
  },
  {
   "cell_type": "markdown",
   "metadata": {},
   "source": [
    "# Part 3\n",
    "\n",
    "Imagine your job is to help build the text processing pipeline for a machine learning model. This model takes strings, processes them into vectors, and then classifies the text as relating to one of several categories (a multiclass classifier).\n",
    "\n",
    "The raw data that is passed into the machine learning pipeline has strings that may include descriptions of many items, including multiple items that we are seeking to classify, as well as descriptions of items that are irrelevant to our classifier. These must be separated before being passed to classifier.\n",
    "\n",
    "As the newest member of the team, your job is to get up to speed with the data as quickly as possible, and to find opportunities to improve the text processing pipeline. Perform an EDA on the following CSV to accomplish this. Be prepared to explain what insights you learned from the data, and what approaches you might use to improve the pipeline.\n",
    "\n",
    "Perform the analysis in this notebook, below this prompt.\n",
    "\n",
    "**Important: you are not building a machine learning model. The purpose of this component of the assignment is to demonstrate your skills with data analysis, visualizations, and pandas**"
   ]
  },
  {
   "cell_type": "markdown",
   "metadata": {},
   "source": [
    "------------------------------------"
   ]
  }
 ],
 "metadata": {
  "interpreter": {
   "hash": "4badd61a3eb0a98b49024dc08b6e569de2eac3230396ff1e691db44e3b600cf6"
  },
  "kernelspec": {
   "display_name": "Python 3.9.5 64-bit",
   "name": "python3"
  },
  "language_info": {
   "codemirror_mode": {
    "name": "ipython",
    "version": 3
   },
   "file_extension": ".py",
   "mimetype": "text/x-python",
   "name": "python",
   "nbconvert_exporter": "python",
   "pygments_lexer": "ipython3",
   "version": "3.9.5"
  },
  "orig_nbformat": 4
 },
 "nbformat": 4,
 "nbformat_minor": 2
}
